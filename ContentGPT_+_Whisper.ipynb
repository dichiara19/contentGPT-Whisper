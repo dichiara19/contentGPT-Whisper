{
  "nbformat": 4,
  "nbformat_minor": 0,
  "metadata": {
    "colab": {
      "provenance": [],
      "include_colab_link": true
    },
    "kernelspec": {
      "name": "python3",
      "display_name": "Python 3"
    },
    "language_info": {
      "name": "python"
    }
  },
  "cells": [
    {
      "cell_type": "markdown",
      "metadata": {
        "id": "view-in-github",
        "colab_type": "text"
      },
      "source": [
        "<a href=\"https://colab.research.google.com/github/dichiara19/contentGPT-Whisper/blob/main/ContentGPT_%2B_Whisper.ipynb\" target=\"_parent\"><img src=\"https://colab.research.google.com/assets/colab-badge.svg\" alt=\"Open In Colab\"/></a>"
      ]
    },
    {
      "cell_type": "markdown",
      "source": [
        "## Benvenuto in ContentGPT 1.0 by Datapizza 🍕\n",
        "\n",
        "### Questo tool ti permette di creare contenuti nel TUO stile in modo totalmente controllabile, rapido ed economico.\n",
        "\n",
        "### Usalo per creare le bozze dei tuoi contenuti o di quelli aziendali.\n",
        "\n",
        "### Non usarlo per inquinare il web di altra \"spazzatura generata con AI\", per favore :)\n",
        "\n",
        "#### *I prossimi tool li metterò tutti nella nostra newsletter Commit, iscriviti per non perderteli ([esce ogni Martedì](https://datapizza.tech/#newsletter)!)*"
      ],
      "metadata": {
        "id": "yuwZ-lHzmY0A"
      }
    },
    {
      "cell_type": "markdown",
      "source": [
        "**Copia questo notebook nel tuo Drive (qua non puoi modificarlo)**\n",
        "\n",
        "\n",
        "**[Guida su come ottenere la API Key di OpenAI.](https://www.maisieai.com/help/how-to-get-an-openai-api-key-for-chatgpt)**\n",
        "\n",
        "**Installa la libreria OpenAI e `inserisci la tua API Key`.👇**\n"
      ],
      "metadata": {
        "id": "id6H35gr943u"
      }
    },
    {
      "cell_type": "code",
      "source": [
        "# installa la libreria OpenAI\n",
        "!pip install openai\n",
        "\n",
        "from openai import OpenAI\n",
        "import os\n",
        "\n",
        "client = OpenAI(api_key= \"INSERISCI_QUA_LA_API_KEY\")\n",
        "# ESEMPIO\n",
        "# client = OpenAI(api_key=\"sk-N30XG5u787EzeeniNysCXygF2T3BlbkFJiR6boWa55DX1QyE2131ss5Y\")"
      ],
      "metadata": {
        "id": "24fa57MU8hp7",
        "colab": {
          "base_uri": "https://localhost:8080/"
        },
        "outputId": "aaaf32d5-f037-4229-a4c4-b164d7c5f66f"
      },
      "execution_count": null,
      "outputs": [
        {
          "output_type": "stream",
          "name": "stdout",
          "text": [
            "Collecting openai\n",
            "  Downloading openai-1.14.1-py3-none-any.whl (257 kB)\n",
            "\u001b[2K     \u001b[90m━━━━━━━━━━━━━━━━━━━━━━━━━━━━━━━━━━━━━━━━\u001b[0m \u001b[32m257.5/257.5 kB\u001b[0m \u001b[31m3.4 MB/s\u001b[0m eta \u001b[36m0:00:00\u001b[0m\n",
            "\u001b[?25hRequirement already satisfied: anyio<5,>=3.5.0 in /usr/local/lib/python3.10/dist-packages (from openai) (3.7.1)\n",
            "Requirement already satisfied: distro<2,>=1.7.0 in /usr/lib/python3/dist-packages (from openai) (1.7.0)\n",
            "Collecting httpx<1,>=0.23.0 (from openai)\n",
            "  Downloading httpx-0.27.0-py3-none-any.whl (75 kB)\n",
            "\u001b[2K     \u001b[90m━━━━━━━━━━━━━━━━━━━━━━━━━━━━━━━━━━━━━━━━\u001b[0m \u001b[32m75.6/75.6 kB\u001b[0m \u001b[31m6.2 MB/s\u001b[0m eta \u001b[36m0:00:00\u001b[0m\n",
            "\u001b[?25hRequirement already satisfied: pydantic<3,>=1.9.0 in /usr/local/lib/python3.10/dist-packages (from openai) (2.6.4)\n",
            "Requirement already satisfied: sniffio in /usr/local/lib/python3.10/dist-packages (from openai) (1.3.1)\n",
            "Requirement already satisfied: tqdm>4 in /usr/local/lib/python3.10/dist-packages (from openai) (4.66.2)\n",
            "Requirement already satisfied: typing-extensions<5,>=4.7 in /usr/local/lib/python3.10/dist-packages (from openai) (4.10.0)\n",
            "Requirement already satisfied: idna>=2.8 in /usr/local/lib/python3.10/dist-packages (from anyio<5,>=3.5.0->openai) (3.6)\n",
            "Requirement already satisfied: exceptiongroup in /usr/local/lib/python3.10/dist-packages (from anyio<5,>=3.5.0->openai) (1.2.0)\n",
            "Requirement already satisfied: certifi in /usr/local/lib/python3.10/dist-packages (from httpx<1,>=0.23.0->openai) (2024.2.2)\n",
            "Collecting httpcore==1.* (from httpx<1,>=0.23.0->openai)\n",
            "  Downloading httpcore-1.0.4-py3-none-any.whl (77 kB)\n",
            "\u001b[2K     \u001b[90m━━━━━━━━━━━━━━━━━━━━━━━━━━━━━━━━━━━━━━━━\u001b[0m \u001b[32m77.8/77.8 kB\u001b[0m \u001b[31m5.5 MB/s\u001b[0m eta \u001b[36m0:00:00\u001b[0m\n",
            "\u001b[?25hCollecting h11<0.15,>=0.13 (from httpcore==1.*->httpx<1,>=0.23.0->openai)\n",
            "  Downloading h11-0.14.0-py3-none-any.whl (58 kB)\n",
            "\u001b[2K     \u001b[90m━━━━━━━━━━━━━━━━━━━━━━━━━━━━━━━━━━━━━━━━\u001b[0m \u001b[32m58.3/58.3 kB\u001b[0m \u001b[31m5.3 MB/s\u001b[0m eta \u001b[36m0:00:00\u001b[0m\n",
            "\u001b[?25hRequirement already satisfied: annotated-types>=0.4.0 in /usr/local/lib/python3.10/dist-packages (from pydantic<3,>=1.9.0->openai) (0.6.0)\n",
            "Requirement already satisfied: pydantic-core==2.16.3 in /usr/local/lib/python3.10/dist-packages (from pydantic<3,>=1.9.0->openai) (2.16.3)\n",
            "Installing collected packages: h11, httpcore, httpx, openai\n",
            "Successfully installed h11-0.14.0 httpcore-1.0.4 httpx-0.27.0 openai-1.14.1\n"
          ]
        }
      ]
    },
    {
      "cell_type": "markdown",
      "source": [
        "**👈 Crea una cartella che si chiama \"esempi\" e inserisci 3-4 esempi, come file di testo (ignora la cartella \"sample data\")**\n"
      ],
      "metadata": {
        "id": "GK-C9qRW-Coa"
      }
    },
    {
      "cell_type": "code",
      "source": [
        "# definisco una funziona comoda per leggere gli esempi\n",
        "def carica_esempi(cartella_input):\n",
        "    # Per ogni file nella cartella di input, carica i file txt\n",
        "    # e restituisce una lista di esempi\n",
        "    esempi = []\n",
        "    for file in os.listdir(cartella_input):\n",
        "        if file.endswith('.txt'):\n",
        "          with open(f'{cartella_input}/{file}', 'r', encoding='utf-8') as f:\n",
        "              esempi.append(f.read())\n",
        "    return esempi\n",
        "\n",
        "# deve coinsidere con il nome della cartella \"esempi\"\n",
        "esempi = carica_esempi('esempi')"
      ],
      "metadata": {
        "id": "Lem4s1oD9EHh",
        "colab": {
          "base_uri": "https://localhost:8080/",
          "height": 297
        },
        "outputId": "c87300a2-3f15-4cc1-a6c5-28eb3366969a"
      },
      "execution_count": null,
      "outputs": [
        {
          "output_type": "error",
          "ename": "FileNotFoundError",
          "evalue": "[Errno 2] No such file or directory: 'esempi'",
          "traceback": [
            "\u001b[0;31m---------------------------------------------------------------------------\u001b[0m",
            "\u001b[0;31mFileNotFoundError\u001b[0m                         Traceback (most recent call last)",
            "\u001b[0;32m<ipython-input-2-edf729e38d96>\u001b[0m in \u001b[0;36m<cell line: 13>\u001b[0;34m()\u001b[0m\n\u001b[1;32m     11\u001b[0m \u001b[0;34m\u001b[0m\u001b[0m\n\u001b[1;32m     12\u001b[0m \u001b[0;31m# deve coinsidere con il nome della cartella \"esempi\"\u001b[0m\u001b[0;34m\u001b[0m\u001b[0;34m\u001b[0m\u001b[0m\n\u001b[0;32m---> 13\u001b[0;31m \u001b[0mesempi\u001b[0m \u001b[0;34m=\u001b[0m \u001b[0mcarica_esempi\u001b[0m\u001b[0;34m(\u001b[0m\u001b[0;34m'esempi'\u001b[0m\u001b[0;34m)\u001b[0m\u001b[0;34m\u001b[0m\u001b[0;34m\u001b[0m\u001b[0m\n\u001b[0m",
            "\u001b[0;32m<ipython-input-2-edf729e38d96>\u001b[0m in \u001b[0;36mcarica_esempi\u001b[0;34m(cartella_input)\u001b[0m\n\u001b[1;32m      4\u001b[0m     \u001b[0;31m# e restituisce una lista di esempi\u001b[0m\u001b[0;34m\u001b[0m\u001b[0;34m\u001b[0m\u001b[0m\n\u001b[1;32m      5\u001b[0m     \u001b[0mesempi\u001b[0m \u001b[0;34m=\u001b[0m \u001b[0;34m[\u001b[0m\u001b[0;34m]\u001b[0m\u001b[0;34m\u001b[0m\u001b[0;34m\u001b[0m\u001b[0m\n\u001b[0;32m----> 6\u001b[0;31m     \u001b[0;32mfor\u001b[0m \u001b[0mfile\u001b[0m \u001b[0;32min\u001b[0m \u001b[0mos\u001b[0m\u001b[0;34m.\u001b[0m\u001b[0mlistdir\u001b[0m\u001b[0;34m(\u001b[0m\u001b[0mcartella_input\u001b[0m\u001b[0;34m)\u001b[0m\u001b[0;34m:\u001b[0m\u001b[0;34m\u001b[0m\u001b[0;34m\u001b[0m\u001b[0m\n\u001b[0m\u001b[1;32m      7\u001b[0m         \u001b[0;32mif\u001b[0m \u001b[0mfile\u001b[0m\u001b[0;34m.\u001b[0m\u001b[0mendswith\u001b[0m\u001b[0;34m(\u001b[0m\u001b[0;34m'.txt'\u001b[0m\u001b[0;34m)\u001b[0m\u001b[0;34m:\u001b[0m\u001b[0;34m\u001b[0m\u001b[0;34m\u001b[0m\u001b[0m\n\u001b[1;32m      8\u001b[0m           \u001b[0;32mwith\u001b[0m \u001b[0mopen\u001b[0m\u001b[0;34m(\u001b[0m\u001b[0;34mf'{cartella_input}/{file}'\u001b[0m\u001b[0;34m,\u001b[0m \u001b[0;34m'r'\u001b[0m\u001b[0;34m,\u001b[0m \u001b[0mencoding\u001b[0m\u001b[0;34m=\u001b[0m\u001b[0;34m'utf-8'\u001b[0m\u001b[0;34m)\u001b[0m \u001b[0;32mas\u001b[0m \u001b[0mf\u001b[0m\u001b[0;34m:\u001b[0m\u001b[0;34m\u001b[0m\u001b[0;34m\u001b[0m\u001b[0m\n",
            "\u001b[0;31mFileNotFoundError\u001b[0m: [Errno 2] No such file or directory: 'esempi'"
          ]
        }
      ]
    },
    {
      "cell_type": "markdown",
      "source": [
        "**Personalizza il prompt inserendo queste 3 variabili 👇**"
      ],
      "metadata": {
        "id": "ZrPyhI31EmB6"
      }
    },
    {
      "cell_type": "code",
      "execution_count": null,
      "metadata": {
        "id": "K53ZpHhl7gil"
      },
      "outputs": [],
      "source": [
        "tipo_contenuto = \"Caroselli Instagram\"\n",
        "esperienza_in = \"Data Science e Tecnologia\"\n",
        "numero_slide = 7\n",
        "\n",
        "# costruzione del prompt ( puoi modificarlo )\n",
        "system_message = f\"\"\"Esperto e Attributi Professionali:\n",
        "\n",
        "In questa sessione di addestramento sarai trasformato in ContentGPT, una AI esperta nella creazione di contenuti specializzata nel creare\n",
        "{tipo_contenuto} di valore e accattivanti sul tema {esperienza_in}.\n",
        "\n",
        "Esperienza: 5+ anni di esperienza nella creazione di {tipo_contenuto} accattivanti e informativi su temi legati a {esperienza_in}.\n",
        "Ruoli e Società: Autore freelance di contenuti su {esperienza_in} per pagine di educazione.\n",
        "Competenze: Creazione di contenuti educativi, storytelling coerente, evidenziare punti chiave.\n",
        "Tono e Stile: Il tono dei {tipo_contenuto} deve essere professionale, coinvolgente e accattivante, fornendo informazioni chiare e interessanti.\n",
        "\n",
        "Compito dell'Utente:\n",
        "Il tuo compito è creare un contenuto di {str(numero_slide)}, partendo da un articolo che\n",
        "ti verrà dato in input seguendo le regole fornite e garantendo {tipo_contenuto} in linea con lo stile della pagina.\n",
        "Ti verranno anche forniti gli esempi da cui imparare lo stile e la struttura.\n",
        "\n",
        "Passaggi e Metodo di Valutazione:\n",
        "\n",
        "Regola 1 (Stile):\n",
        "Analisi dello Stile e dei {tipo_contenuto} Esistenti: Esamina i contenuti della pagina per comprendere lo stile e il tipo di informazioni già presenti.\n",
        "Metodo di Valutazione: Identificazione dei temi principali e dello stile predominante.\n",
        "\n",
        "Regola 2 (Coerenza):\n",
        "Creazione di un Contenuto Coerente: Crea un {tipo_contenuto} di almeno {numero_slide} slide con una storia ben strutturata che coinvolga il lettore.\n",
        "Metodo di Valutazione: Coerenza della storia e coinvolgimento del lettore.\n",
        "\n",
        "Regola 3 (Storytelling):\n",
        "Creazione di uno Storytelling Innovativo: Crea una storia coerente e originale, prendendo spunto dall'articolo fornito ma offrendo un'approccio innovativo.\n",
        "Metodo di Valutazione: Coerenza con l'articolo di input e originalità della storia.\n",
        "\n",
        "Regola 4 (So What?):\n",
        "Evidenziazione del So What: Assicurati che ogni slide abbia un so what chiaro e sia rilevante per il lettore.\n",
        "Metodo di Valutazione: Rilevanza del contenuto e impatto sul lettore.\n",
        "\n",
        "Regola 5 (Insightful):\n",
        "Contenuto Accattivante e Non Banale: Assicurati che il contenuto sia interessante, informativo e originale.\n",
        "Metodo di Valutazione: Originalità e coinvolgimento del lettore.\n",
        "\n",
        "Regola 6 (Formato):\n",
        "Slides Brevi ed Efficaci: Scrivi {str(numero_slide)} concise con massimo 50-60 parole e evidenzia punti chiave.\n",
        "Metodo di Valutazione: Concisione e chiarezza del contenuto.\n",
        "\n",
        "Regola 7 (Lingua):\n",
        "Scrittura in Italiano: Tutte le slide devono essere scritte in italiano corretto per il pubblico di riferimento.\n",
        "Metodo di Valutazione: Adesione alla lingua italiana e correttezza grammaticale e sintattica.\n",
        "\n",
        "Regola 8 (Bold):\n",
        "Evidenziazione delle Parole Chiave: Utilizza il bold per evidenziare almeno 3 parole chiave per ogni slide.\n",
        "Metodo di Valutazione: Rilevanza e chiarezza delle parole chiave.\n",
        "\n",
        "Regola 9 (Collegamenti)\n",
        "Collegamento ai Punti Chiave dell'Articolo: Assicurati di toccare i punti chiave dell'articolo nel {tipo_contenuto} e collegarli in modo significativo.\n",
        "Assicurati che i punti vengano toccati in punti diversi del {tipo_contenuto}, integrandoli nei punti più sensati dello storytelling.\n",
        "Metodo di Valutazione: Collegamento accurato e pertinente ai punti chiave dell'articolo.\n",
        "\n",
        "Regola 10 (Titolo Accattivante)\n",
        "Titolo accattivante: crea una prima slide con titolo e sottotitolo accattivanti, che invitino il lettore a leggere. Il titolo deve essere breve e di impatto.\n",
        "Metodo di Valutazione: Attrattività del titolo e potenzialità per rendere il contenuto virale. Il titolo deve essere breve ma di impatto.\n",
        "\n",
        "Obiettivo:\n",
        "L'obiettivo è fornire un {tipo_contenuto} educativo e coinvolgente su data science e tecnologia in linea con lo stile della pagina e il tema dell'articolo fornito.\n",
        "\n",
        "KPIs per ContentGPT:\n",
        "Rilevanza dei {tipo_contenuto}: Rilevanza e coerenza del {tipo_contenuto} con lo stile della pagina e l'articolo di input.\n",
        "Coinvolgimento del Pubblico: Coinvolgimento del pubblico tramite un {tipo_contenuto} coinvolgente e accattivante.\n",
        "Originalità dello Storytelling: Originalità e innovazione nella creazione della storia del {tipo_contenuto}.\n",
        "\n",
        "Introduzione per gli Utenti di questa Nuova Istanza:\n",
        "\n",
        "Benvenuto a ContentGPT! Sono qui per aiutarti a creare un {tipo_contenuto} coinvolgente.\n",
        "Ti guiderò passo dopo passo attraverso la creazione del {tipo_contenuto}, seguendo le regole fornite e garantendo che il contenuto sia in linea con lo stile della pagina.\n",
        "\n",
        "Cominciamo! Per iniziare, inizia a fornirmi i contenuti esempio in modo che possa impararne lo stile.\"\"\"\n",
        "\n"
      ]
    },
    {
      "cell_type": "markdown",
      "source": [
        "👈 **Ora inserisci il testo del testo di cui vuoi parlare. Può essere un articolo, l'abstract di una ricerca, i tuoi appunti. (sempre come file .txt).**\n",
        "\n",
        "**Chiama il file \"input.txt\"**\n",
        "\n",
        "**Ricorda di salvare il file (CTRL S)**"
      ],
      "metadata": {
        "id": "q2miNXbDHeB5"
      }
    },
    {
      "cell_type": "code",
      "source": [
        "# deve coincidere con il nome del file \"input.txt\"\n",
        "nome_file_articolo = \"input.txt\"\n",
        "\n",
        "with open(nome_file_articolo, 'r', encoding='utf-8') as f:\n",
        "  testo_articolo = f.read()"
      ],
      "metadata": {
        "id": "-jd3JB9PH7RV"
      },
      "execution_count": null,
      "outputs": []
    },
    {
      "cell_type": "markdown",
      "source": [
        "**Ora è tutto pronto! Avviando la prossima cella invierai la chiamata API al modello di OpenAI. Di default ho messo GPT4 Turbo, ma [puoi scegliere il modello che preferisci da qua](https://platform.openai.com/docs/models). L'esecuzione dura circa 45 secondi. Il costo dipende dal numero di esempi, con 3-4 esempi (lunghezza carosello IG) costa $ 0.05.**\n",
        "\n",
        "**Puoi anche giocare con il parametro \"[temperature](https://www.coltsteele.com/tips/understanding-openai-s-temperature-parameter)\", più è alto più randomizzi l'output (massimo 2).**\n",
        "\n",
        "**Io lo tengo sempre tra 0.1 - 0.4.**"
      ],
      "metadata": {
        "id": "9zFbU2i7JtzC"
      }
    },
    {
      "cell_type": "code",
      "source": [
        "chat = []\n",
        "\n",
        "# carichiamo tutti gli esempi in una conversazione \"botta e risposta\"\n",
        "for esempio in esempi:\n",
        "    chat.append({\"role\": \"user\", \"content\": esempio})\n",
        "    chat.append({\"role\": \"assistant\", \"content\": \"Ho letto l'esempio e sto imparando.\"})\n",
        "\n",
        "\n",
        "chat.append({\"role\": \"user\", \"content\": \"Perfetto, ora sei pronto. Ti passo l'articolo da trasformare nel nostro stile. Mi raccomando aderisci al formato e alla struttura oltre che allo stile.\"})\n",
        "chat.append({\"role\": \"assistant\", \"content\": \"Ho capito, dammi il testo del contenuto ora.\"})\n",
        "\n",
        "# ora gli diamo l'articolo di input\n",
        "chat.append({\"role\": \"user\", \"content\": testo_articolo})\n",
        "\n",
        "# definiamo la chiamata ad OpenAI\n",
        "def call_openai(chat):\n",
        "    completion = client.chat.completions.create(\n",
        "    model = \"gpt-4-0125-preview\",\n",
        "    messages = chat,\n",
        "    temperature = 0.1)\n",
        "    return completion\n",
        "\n",
        "# inviamo la chiamata e salviamo risultato nella\n",
        "risultato = call_openai(chat)"
      ],
      "metadata": {
        "id": "a1hp7TRuEa_n"
      },
      "execution_count": null,
      "outputs": []
    },
    {
      "cell_type": "code",
      "source": [
        "# stampa a schermo il tuo contenuto :)\n",
        "\n",
        "print(risultato.choices[0].message.content)"
      ],
      "metadata": {
        "id": "IyYP6E9JJs1F"
      },
      "execution_count": null,
      "outputs": []
    }
  ]
}